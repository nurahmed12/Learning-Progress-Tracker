{
  "cells": [
    {
      "cell_type": "markdown",
      "metadata": {
        "id": "5GeVnQj2hSN9"
      },
      "source": [
        "**Python Basics: Variables, Data Types, Control Flow, Functions**"
      ]
    },
    {
      "cell_type": "code",
      "execution_count": null,
      "metadata": {
        "colab": {
          "base_uri": "https://localhost:8080/"
        },
        "id": "ulSraBKkhKfx",
        "outputId": "48d55604-fa74-40ef-ab6b-81c5fcabdb00"
      },
      "outputs": [],
      "source": [
        "# Printing in Python\n",
        "# Escape Sequences\n",
        "print(\"Hello Data Science.\")\n",
        "print('My Journey \\nStarts')\n",
        "print('What\\'s up?')\n",
        "print(\"She said \\\"Hey\\\" in Bangla\")\n",
        "print('How \\\\ are you?')\n",
        "print('How is it \\t going?')\n",
        "print('Everything \\b good?')\n",
        "print(\"\"\"\n",
        "My learning path:\n",
        " -Python Basics\n",
        " -Data Science\n",
        " -Artificial Intelligence\n",
        "\"\"\")"
      ]
    },
    {
      "cell_type": "code",
      "execution_count": null,
      "metadata": {
        "colab": {
          "base_uri": "https://localhost:8080/"
        },
        "id": "nKuu0GsEo4Ua",
        "outputId": "9e4cb5a5-85a0-403e-8b3e-b7371ee16313"
      },
      "outputs": [],
      "source": [
        "# Real World Application:\n",
        "\n",
        "price_shirt = 25.00\n",
        "price_jeans = 45.50\n",
        "\n",
        "qty_shirt = 2\n",
        "qty_jeans = 1\n",
        "\n",
        "total_shirt = price_shirt * qty_shirt\n",
        "total_jeans = price_jeans * qty_jeans\n",
        "subtotal = total_shirt + total_jeans\n",
        "print(\"Subtotal: \", subtotal)\n",
        "discount = subtotal * 0.10\n",
        "final_total = subtotal - discount\n",
        "print(\"Final Total: \", final_total)"
      ]
    },
    {
      "cell_type": "code",
      "execution_count": null,
      "metadata": {
        "colab": {
          "base_uri": "https://localhost:8080/"
        },
        "id": "KFC9lCcYxSGC",
        "outputId": "9805d67c-636c-4aae-9f5c-ad2d8a05646d"
      },
      "outputs": [],
      "source": [
        "# Variables:\n",
        "\n",
        "name = 'Nur'\n",
        "print(\"My name is\", name)\n",
        "print(name, \"is my name\")\n",
        "print(name, 'will be the greatest Data Scientist')\n",
        "print(\"I am\",name,\"and I love Data Science\")\n",
        "print(\"I am \" + name + \" and I love Data Science\")\n",
        "print(f\"I am {name} and I love Data Science\")\n",
        "\n",
        "f_name, l_name = 'Nur', 'Ahmed'\n",
        "print(f\"My name is {f_name} {l_name}\")\n",
        "\n",
        "f_name, l_name = l_name, f_name\n",
        "print(f\"My name is {f_name} {l_name}\")"
      ]
    },
    {
      "cell_type": "code",
      "execution_count": null,
      "metadata": {
        "id": "keF2BcOR2qO8"
      },
      "outputs": [
        {
          "name": "stdout",
          "output_type": "stream",
          "text": [
            "Your name is Nur\n"
          ]
        }
      ],
      "source": [
        "# Input and Output:\n",
        "\n",
        "name = input(\"Enter Your Name: \")\n",
        "print(\"Your name is\", name) "
      ]
    },
    {
      "cell_type": "code",
      "execution_count": null,
      "metadata": {},
      "outputs": [],
      "source": []
    }
  ],
  "metadata": {
    "colab": {
      "provenance": []
    },
    "kernelspec": {
      "display_name": "Python 3",
      "name": "python3"
    },
    "language_info": {
      "codemirror_mode": {
        "name": "ipython",
        "version": 3
      },
      "file_extension": ".py",
      "mimetype": "text/x-python",
      "name": "python",
      "nbconvert_exporter": "python",
      "pygments_lexer": "ipython3",
      "version": "3.12.4"
    }
  },
  "nbformat": 4,
  "nbformat_minor": 0
}
