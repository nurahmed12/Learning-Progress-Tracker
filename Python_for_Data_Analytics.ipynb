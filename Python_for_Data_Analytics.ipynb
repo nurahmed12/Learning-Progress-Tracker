{
  "cells": [
    {
      "cell_type": "markdown",
      "metadata": {
        "id": "5GeVnQj2hSN9"
      },
      "source": [
        "**Python Basics: Variables, Data Types, Control Flow, Functions**"
      ]
    },
    {
      "cell_type": "code",
      "execution_count": null,
      "metadata": {
        "colab": {
          "base_uri": "https://localhost:8080/"
        },
        "id": "ulSraBKkhKfx",
        "outputId": "48d55604-fa74-40ef-ab6b-81c5fcabdb00"
      },
      "outputs": [],
      "source": [
        "# Printing in Python\n",
        "# Escape Sequences\n",
        "print(\"Hello Data Science.\")\n",
        "print('My Journey \\nStarts')\n",
        "print('What\\'s up?')\n",
        "print(\"She said \\\"Hey\\\" in Bangla\")\n",
        "print('How \\\\ are you?')\n",
        "print('How is it \\t going?')\n",
        "print('Everything \\b good?')\n",
        "print(\"\"\"\n",
        "My learning path:\n",
        " -Python Basics\n",
        " -Data Science\n",
        " -Artificial Intelligence\n",
        "\"\"\")"
      ]
    },
    {
      "cell_type": "code",
      "execution_count": null,
      "metadata": {
        "colab": {
          "base_uri": "https://localhost:8080/"
        },
        "id": "nKuu0GsEo4Ua",
        "outputId": "9e4cb5a5-85a0-403e-8b3e-b7371ee16313"
      },
      "outputs": [],
      "source": [
        "# Real World Application:\n",
        "\n",
        "price_shirt = 25.00\n",
        "price_jeans = 45.50\n",
        "\n",
        "qty_shirt = 2\n",
        "qty_jeans = 1\n",
        "\n",
        "total_shirt = price_shirt * qty_shirt\n",
        "total_jeans = price_jeans * qty_jeans\n",
        "subtotal = total_shirt + total_jeans\n",
        "print(\"Subtotal: \", subtotal)\n",
        "discount = subtotal * 0.10\n",
        "final_total = subtotal - discount\n",
        "print(\"Final Total: \", final_total)"
      ]
    },
    {
      "cell_type": "code",
      "execution_count": null,
      "metadata": {
        "colab": {
          "base_uri": "https://localhost:8080/"
        },
        "id": "KFC9lCcYxSGC",
        "outputId": "9805d67c-636c-4aae-9f5c-ad2d8a05646d"
      },
      "outputs": [
        {
          "name": "stdout",
          "output_type": "stream",
          "text": [
            "apple\n",
            "The value is 7 and the type is <class 'int'>\n",
            "The value is 3.0 and the type is <class 'float'>\n",
            "The value is 3 and the type is <class 'int'>\n",
            "The value is 3 and the type is <class 'str'>\n",
            "My name is Nur\n",
            "Nur is my name\n",
            "Nur will be the greatest Data Scientist\n",
            "I am Nur and I love Data Science\n",
            "I am Nur and I love Data Science\n",
            "I am Nur and I love Data Science\n",
            "My name is Nur Ahmed\n",
            "My name is Ahmed Nur\n"
          ]
        }
      ],
      "source": [
        "# Variables:\n",
        "\n",
        "name = 'Nur'\n",
        "x = str(3)\n",
        "y = int(3)\n",
        "z = float(3.0)\n",
        "m = n = 7\n",
        "fruits = ['apple', 'banana', 'cherry']\n",
        "x2, y2, z2 = fruits\n",
        "\n",
        "print(x2)\n",
        "print(f\"The value is {m} and the type is {type(m)}\")\n",
        "print(f\"The value is {z} and the type is {type(z)}\")\n",
        "print(f\"The value is {y} and the type is {type(y)}\")\n",
        "print(f\"The value is {x} and the type is {type(x)}\")\n",
        "print(\"My name is\", name)\n",
        "print(name, \"is my name\")\n",
        "print(name, 'will be the greatest Data Scientist')\n",
        "print(\"I am\",name,\"and I love Data Science\")\n",
        "print(\"I am \" + name + \" and I love Data Science\")\n",
        "print(f\"I am {name} and I love Data Science\")\n",
        "\n",
        "f_name, l_name = 'Nur', 'Ahmed'\n",
        "print(f\"My name is {f_name} {l_name}\")\n",
        "\n",
        "f_name, l_name = l_name, f_name\n",
        "print(f\"My name is {f_name} {l_name}\")"
      ]
    },
    {
      "cell_type": "code",
      "execution_count": null,
      "metadata": {
        "id": "keF2BcOR2qO8"
      },
      "outputs": [
        {
          "name": "stdout",
          "output_type": "stream",
          "text": [
            "Your name is Nur\n"
          ]
        }
      ],
      "source": [
        "# Input and Output:\n",
        "\n",
        "name = input(\"Enter Your Name: \")\n",
        "print(\"Your name is\", name) "
      ]
    },
    {
      "cell_type": "code",
      "execution_count": null,
      "metadata": {},
      "outputs": [
        {
          "name": "stdout",
          "output_type": "stream",
          "text": [
            "<class 'int'> <class 'float'> <class 'str'> <class 'str'> <class 'str'> <class 'bool'> <class 'bool'> <class 'NoneType'>\n",
            "10 is of type <class 'int'>\n"
          ]
        }
      ],
      "source": [
        "# Data Types\n",
        "\n",
        "a = 10 # int \n",
        "b = 3.15 # float\n",
        "c = \"What's up\" # str\n",
        "d = 'Hi' #str\n",
        "e = '1234' # str\n",
        "f = True # bool\n",
        "g = False # bool\n",
        "h = None # NoneType\n",
        "i = \"\" # Empty String\n",
        "\n",
        "print(type(a), type(b), type(c), type(d), type(e), type(f), type(g), type(h))\n",
        "print(f\"{a} is of type {type(a)}\")"
      ]
    },
    {
      "cell_type": "code",
      "execution_count": 4,
      "metadata": {},
      "outputs": [
        {
          "name": "stdout",
          "output_type": "stream",
          "text": [
            "<class 'str'>\n",
            "<class 'int'>\n",
            "2\n",
            "HI\n",
            "4\n"
          ]
        }
      ],
      "source": [
        "# Functions:\n",
        "\n",
        "text = 'Hi'\n",
        "number = 10\n",
        "\n",
        "type(text)\n",
        "type(number)\n",
        "\n",
        "print(type(text)) # Function\n",
        "print(type(number)) # Function\n",
        "\n",
        "print(len(text))  # Function\n",
        "print(text.upper())  # Method\n",
        "print(number.bit_length())  # Method "
      ]
    },
    {
      "cell_type": "markdown",
      "metadata": {},
      "source": [
        "**1 Variables and Naming**"
      ]
    },
    {
      "cell_type": "code",
      "execution_count": 1,
      "metadata": {},
      "outputs": [
        {
          "name": "stdout",
          "output_type": "stream",
          "text": [
            "a after adding 5: 15\n",
            "swapped x,y: 2 1\n"
          ]
        }
      ],
      "source": [
        "# Variables store references to values. Use meaningful names for readability.\n",
        "# Convention: snake_case for variables and functions, UPPER_CASE for constants.\n",
        "\n",
        "a = 10                # integer\n",
        "b = 3.5               # float\n",
        "dataset_name = \"sales_Q1\"  # string\n",
        "IS_PRODUCTION = False  # boolean constant-style name\n",
        "\n",
        "# Reassigning is allowed: variables are labels pointing to objects.\n",
        "a = a + 5  # now a == 15\n",
        "print(\"a after adding 5:\", a)\n",
        "\n",
        "# Multiple assignment and swapping\n",
        "x, y = 1, 2\n",
        "x, y = y, x\n",
        "print(\"swapped x,y:\", x, y)"
      ]
    },
    {
      "cell_type": "markdown",
      "metadata": {},
      "source": [
        "**2 Data Types**"
      ]
    },
    {
      "cell_type": "code",
      "execution_count": 2,
      "metadata": {},
      "outputs": [
        {
          "name": "stdout",
          "output_type": "stream",
          "text": [
            "types: <class 'int'> <class 'str'> <class 'list'> <class 'dict'>\n"
          ]
        }
      ],
      "source": [
        "# Numeric types\n",
        "int_var = 42               # integers\n",
        "float_var = 3.1415         # floating-point numbers\n",
        "complex_var = 2 + 3j       # complex numbers (rare in analytics)\n",
        "\n",
        "# Text\n",
        "name = \"Alice\"\n",
        "multi_line = \"\"\"This is\n",
        "a multi-line string\"\"\"\n",
        "\n",
        "# Boolean\n",
        "flag = True\n",
        "\n",
        "# None\n",
        "missing = None  # use to indicate missing/unknown value\n",
        "\n",
        "# Built-in collections (very common in analytics)\n",
        "# List: ordered, mutable, allows duplicates\n",
        "prices = [100, 200, 150, 200]\n",
        "\n",
        "# Tuple: ordered, immutable\n",
        "point = (3, 4)\n",
        "\n",
        "# Set: unordered, unique elements (good for dedup)\n",
        "unique_ids = {101, 102, 103}\n",
        "\n",
        "# Dict: key-value mapping (extremely useful for records)\n",
        "record = {\"id\": 1, \"name\": \"Alice\", \"sales\": 250.0}\n",
        "\n",
        "print(\"types:\", type(int_var), type(name), type(prices), type(record))\n",
        "\n",
        "# Mutability note:\n",
        "# - Lists and dicts are mutable (can change in-place).\n",
        "# - Tuples, strings, numbers are immutable."
      ]
    },
    {
      "cell_type": "markdown",
      "metadata": {},
      "source": [
        "**3 Type Conversion and Checking**"
      ]
    },
    {
      "cell_type": "code",
      "execution_count": null,
      "metadata": {},
      "outputs": [
        {
          "name": "stdout",
          "output_type": "stream",
          "text": [
            "safe_int('abc') -1\n",
            "is prices a list? True\n"
          ]
        }
      ],
      "source": [
        "# Convert between types explicitly when needed:\n",
        "s = \"123\"\n",
        "n = int(s)         # \"123\" -> 123\n",
        "f = float(\"12.5\")  # \"12.5\" -> 12.5\n",
        "txt = str(3.14)    # 3.14 -> \"3.14\"\n",
        "\n",
        "# Safe conversion pattern:\n",
        "def safe_int(x, default=0):\n",
        "    \"\"\"Try to convert x to int; return default if fails.\"\"\"\n",
        "    try:\n",
        "        return int(x)\n",
        "    except (ValueError, TypeError):\n",
        "        return default\n",
        "\n",
        "print(\"safe_int('abc'):\", safe_int(\"abc\", default=-1))\n",
        "\n",
        "# Check type or isinstance\n",
        "print(\"is prices a list?\", isinstance(prices, list))"
      ]
    },
    {
      "cell_type": "markdown",
      "metadata": {},
      "source": [
        "**4 Control Flow**"
      ]
    },
    {
      "cell_type": "code",
      "execution_count": null,
      "metadata": {},
      "outputs": [
        {
          "name": "stdout",
          "output_type": "stream",
          "text": [
            "Value: 34, Grade: B+\n",
            "Sum : 158\n",
            "Index: 0, Value: 12\n",
            "Index: 1, Value: 34\n",
            "Index: 2, Value: 25\n",
            "Index: 3, Value: 62\n",
            "Index: 4, Value: 11\n",
            "Index: 5, Value: 14\n"
          ]
        }
      ],
      "source": [
        "value = 34\n",
        "if value > 80:\n",
        "    grade = 'A+'\n",
        "elif value > 70:\n",
        "    grade = 'A'\n",
        "else:\n",
        "    grade = 'B+'\n",
        "\n",
        "print(f\"Value: {value}, Grade: {grade}\")\n",
        "\n",
        "numbers = [12, 34, 25, 62, 11, 14]\n",
        "s = 0\n",
        "for num in numbers:\n",
        "    s += num\n",
        "print(f\"Sum : {s}\")\n",
        "\n",
        "for idx, val in enumerate(numbers):\n",
        "    print(f\"Index: {idx}, Value: {val}\")\n",
        "\n",
        "dates = [\"2025-01-01\", \"2025-01-02\", \"2025-01-03\"]\n",
        "sales = [100, 150, 200]\n",
        "for d, sale in zip(dates, sales):\n",
        "    print(f\"\")"
      ]
    },
    {
      "cell_type": "code",
      "execution_count": null,
      "metadata": {},
      "outputs": [],
      "source": []
    }
  ],
  "metadata": {
    "colab": {
      "provenance": []
    },
    "kernelspec": {
      "display_name": "Python 3",
      "name": "python3"
    },
    "language_info": {
      "codemirror_mode": {
        "name": "ipython",
        "version": 3
      },
      "file_extension": ".py",
      "mimetype": "text/x-python",
      "name": "python",
      "nbconvert_exporter": "python",
      "pygments_lexer": "ipython3",
      "version": "3.12.4"
    }
  },
  "nbformat": 4,
  "nbformat_minor": 0
}
