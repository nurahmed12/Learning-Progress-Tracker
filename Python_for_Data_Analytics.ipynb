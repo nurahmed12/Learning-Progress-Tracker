{
  "cells": [
    {
      "cell_type": "markdown",
      "metadata": {
        "id": "5GeVnQj2hSN9"
      },
      "source": [
        "***Python Basics: Variables, Data Types, Control Flow, Functions***"
      ]
    },
    {
      "cell_type": "code",
      "execution_count": 2,
      "metadata": {
        "colab": {
          "base_uri": "https://localhost:8080/"
        },
        "id": "ulSraBKkhKfx",
        "outputId": "48d55604-fa74-40ef-ab6b-81c5fcabdb00"
      },
      "outputs": [
        {
          "name": "stdout",
          "output_type": "stream",
          "text": [
            "Hello Data Science.\n",
            "My Journey \n",
            "Starts\n",
            "What's up?\n",
            "She said \"Hey\" in Bangla\n",
            "How \\ are you?\n",
            "How is it \t going?\n",
            "Everything good?\n",
            "\n",
            "My learning path:\n",
            " -Python Basics\n",
            " -Data Science\n",
            " -Artificial Intelligence\n",
            "\n"
          ]
        }
      ],
      "source": [
        "# Printing in Python\n",
        "# Escape Sequences\n",
        "print(\"Hello Data Science.\")\n",
        "print('My Journey \\nStarts')\n",
        "print('What\\'s up?')\n",
        "print(\"She said \\\"Hey\\\" in Bangla\")\n",
        "print('How \\\\ are you?')\n",
        "print('How is it \\t going?')\n",
        "print('Everything \\b good?')\n",
        "print(\"\"\"\n",
        "My learning path:\n",
        " -Python Basics\n",
        " -Data Science\n",
        " -Artificial Intelligence\n",
        "\"\"\")"
      ]
    },
    {
      "cell_type": "code",
      "execution_count": 3,
      "metadata": {
        "colab": {
          "base_uri": "https://localhost:8080/"
        },
        "id": "nKuu0GsEo4Ua",
        "outputId": "9e4cb5a5-85a0-403e-8b3e-b7371ee16313"
      },
      "outputs": [
        {
          "name": "stdout",
          "output_type": "stream",
          "text": [
            "Subtotal:  95.5\n",
            "Final Total:  85.95\n"
          ]
        }
      ],
      "source": [
        "# Real World Application:\n",
        "\n",
        "price_shirt = 25.00\n",
        "price_jeans = 45.50\n",
        "\n",
        "qty_shirt = 2\n",
        "qty_jeans = 1\n",
        "\n",
        "total_shirt = price_shirt * qty_shirt\n",
        "total_jeans = price_jeans * qty_jeans\n",
        "subtotal = total_shirt + total_jeans\n",
        "print(\"Subtotal: \", subtotal)\n",
        "discount = subtotal * 0.10\n",
        "final_total = subtotal - discount\n",
        "print(\"Final Total: \", final_total)"
      ]
    },
    {
      "cell_type": "code",
      "execution_count": 4,
      "metadata": {
        "colab": {
          "base_uri": "https://localhost:8080/"
        },
        "id": "KFC9lCcYxSGC",
        "outputId": "9805d67c-636c-4aae-9f5c-ad2d8a05646d"
      },
      "outputs": [
        {
          "name": "stdout",
          "output_type": "stream",
          "text": [
            "apple\n",
            "The value is 7 and the type is <class 'int'>\n",
            "The value is 3.0 and the type is <class 'float'>\n",
            "The value is 3 and the type is <class 'int'>\n",
            "The value is 3 and the type is <class 'str'>\n",
            "My name is Nur\n",
            "Nur is my name\n",
            "Nur will be the greatest Data Scientist\n",
            "I am Nur and I love Data Science\n",
            "I am Nur and I love Data Science\n",
            "I am Nur and I love Data Science\n",
            "My name is Nur Ahmed\n",
            "My name is Ahmed Nur\n"
          ]
        }
      ],
      "source": [
        "# Variables:\n",
        "\n",
        "name = 'Nur'\n",
        "x = str(3)\n",
        "y = int(3)\n",
        "z = float(3.0)\n",
        "m = n = 7\n",
        "fruits = ['apple', 'banana', 'cherry']\n",
        "x2, y2, z2 = fruits\n",
        "\n",
        "print(x2)\n",
        "print(f\"The value is {m} and the type is {type(m)}\")\n",
        "print(f\"The value is {z} and the type is {type(z)}\")\n",
        "print(f\"The value is {y} and the type is {type(y)}\")\n",
        "print(f\"The value is {x} and the type is {type(x)}\")\n",
        "print(\"My name is\", name)\n",
        "print(name, \"is my name\")\n",
        "print(name, 'will be the greatest Data Scientist')\n",
        "print(\"I am\",name,\"and I love Data Science\")\n",
        "print(\"I am \" + name + \" and I love Data Science\")\n",
        "print(f\"I am {name} and I love Data Science\")\n",
        "\n",
        "f_name, l_name = 'Nur', 'Ahmed'\n",
        "print(f\"My name is {f_name} {l_name}\")\n",
        "\n",
        "f_name, l_name = l_name, f_name\n",
        "print(f\"My name is {f_name} {l_name}\")"
      ]
    },
    {
      "cell_type": "code",
      "execution_count": 5,
      "metadata": {
        "id": "keF2BcOR2qO8"
      },
      "outputs": [
        {
          "name": "stdout",
          "output_type": "stream",
          "text": [
            "Your name is \n"
          ]
        }
      ],
      "source": [
        "# Input and Output:\n",
        "\n",
        "name = input(\"Enter Your Name: \")\n",
        "print(\"Your name is\", name) "
      ]
    },
    {
      "cell_type": "code",
      "execution_count": 6,
      "metadata": {},
      "outputs": [
        {
          "name": "stdout",
          "output_type": "stream",
          "text": [
            "<class 'int'> <class 'float'> <class 'str'> <class 'str'> <class 'str'> <class 'bool'> <class 'bool'> <class 'NoneType'>\n",
            "10 is of type <class 'int'>\n"
          ]
        }
      ],
      "source": [
        "# Data Types\n",
        "\n",
        "a = 10 # int \n",
        "b = 3.15 # float\n",
        "c = \"What's up\" # str\n",
        "d = 'Hi' #str\n",
        "e = '1234' # str\n",
        "f = True # bool\n",
        "g = False # bool\n",
        "h = None # NoneType\n",
        "i = \"\" # Empty String\n",
        "\n",
        "print(type(a), type(b), type(c), type(d), type(e), type(f), type(g), type(h))\n",
        "print(f\"{a} is of type {type(a)}\")"
      ]
    },
    {
      "cell_type": "code",
      "execution_count": 7,
      "metadata": {},
      "outputs": [
        {
          "name": "stdout",
          "output_type": "stream",
          "text": [
            "<class 'str'>\n",
            "<class 'int'>\n",
            "2\n",
            "HI\n",
            "4\n"
          ]
        }
      ],
      "source": [
        "# Functions:\n",
        "\n",
        "text = 'Hi'\n",
        "number = 10\n",
        "\n",
        "type(text)\n",
        "type(number)\n",
        "\n",
        "print(type(text)) # Function\n",
        "print(type(number)) # Function\n",
        "\n",
        "print(len(text))  # Function\n",
        "print(text.upper())  # Method\n",
        "print(number.bit_length())  # Method "
      ]
    },
    {
      "cell_type": "markdown",
      "metadata": {},
      "source": [
        "**1 Variables and Naming**"
      ]
    },
    {
      "cell_type": "code",
      "execution_count": 8,
      "metadata": {},
      "outputs": [
        {
          "name": "stdout",
          "output_type": "stream",
          "text": [
            "a after adding 5: 15\n",
            "swapped x,y: 2 1\n"
          ]
        }
      ],
      "source": [
        "# Variables store references to values. Use meaningful names for readability.\n",
        "# Convention: snake_case for variables and functions, UPPER_CASE for constants.\n",
        "\n",
        "a = 10                # integer\n",
        "b = 3.5               # float\n",
        "dataset_name = \"sales_Q1\"  # string\n",
        "IS_PRODUCTION = False  # boolean constant-style name\n",
        "\n",
        "# Reassigning is allowed: variables are labels pointing to objects.\n",
        "a = a + 5  # now a == 15\n",
        "print(\"a after adding 5:\", a)\n",
        "\n",
        "# Multiple assignment and swapping\n",
        "x, y = 1, 2\n",
        "x, y = y, x\n",
        "print(\"swapped x,y:\", x, y)"
      ]
    },
    {
      "cell_type": "markdown",
      "metadata": {},
      "source": [
        "**2 Data Types**"
      ]
    },
    {
      "cell_type": "code",
      "execution_count": 9,
      "metadata": {},
      "outputs": [
        {
          "name": "stdout",
          "output_type": "stream",
          "text": [
            "types: <class 'int'> <class 'str'> <class 'list'> <class 'dict'>\n"
          ]
        }
      ],
      "source": [
        "# Numeric types\n",
        "int_var = 42               # integers\n",
        "float_var = 3.1415         # floating-point numbers\n",
        "complex_var = 2 + 3j       # complex numbers (rare in analytics)\n",
        "\n",
        "# Text\n",
        "name = \"Alice\"\n",
        "multi_line = \"\"\"This is\n",
        "a multi-line string\"\"\"\n",
        "\n",
        "# Boolean\n",
        "flag = True\n",
        "\n",
        "# None\n",
        "missing = None  # use to indicate missing/unknown value\n",
        "\n",
        "# Built-in collections (very common in analytics)\n",
        "# List: ordered, mutable, allows duplicates\n",
        "prices = [100, 200, 150, 200]\n",
        "\n",
        "# Tuple: ordered, immutable\n",
        "point = (3, 4)\n",
        "\n",
        "# Set: unordered, unique elements (good for dedup)\n",
        "unique_ids = {101, 102, 103}\n",
        "\n",
        "# Dict: key-value mapping (extremely useful for records)\n",
        "record = {\"id\": 1, \"name\": \"Alice\", \"sales\": 250.0}\n",
        "\n",
        "print(\"types:\", type(int_var), type(name), type(prices), type(record))\n",
        "\n",
        "# Mutability note:\n",
        "# - Lists and dicts are mutable (can change in-place).\n",
        "# - Tuples, strings, numbers are immutable."
      ]
    },
    {
      "cell_type": "markdown",
      "metadata": {},
      "source": [
        "**3 Type Conversion and Checking**"
      ]
    },
    {
      "cell_type": "code",
      "execution_count": 10,
      "metadata": {},
      "outputs": [
        {
          "name": "stdout",
          "output_type": "stream",
          "text": [
            "safe_int('abc'): -1\n",
            "is prices a list? True\n"
          ]
        }
      ],
      "source": [
        "# Convert between types explicitly when needed:\n",
        "s = \"123\"\n",
        "n = int(s)         # \"123\" -> 123\n",
        "f = float(\"12.5\")  # \"12.5\" -> 12.5\n",
        "txt = str(3.14)    # 3.14 -> \"3.14\"\n",
        "\n",
        "# Safe conversion pattern:\n",
        "def safe_int(x, default=0):\n",
        "    \"\"\"Try to convert x to int; return default if fails.\"\"\"\n",
        "    try:\n",
        "        return int(x)\n",
        "    except (ValueError, TypeError):\n",
        "        return default\n",
        "\n",
        "print(\"safe_int('abc'):\", safe_int(\"abc\", default=-1))\n",
        "\n",
        "# Check type or isinstance\n",
        "print(\"is prices a list?\", isinstance(prices, list))"
      ]
    },
    {
      "cell_type": "markdown",
      "metadata": {},
      "source": [
        "**4 Control Flow**"
      ]
    },
    {
      "cell_type": "code",
      "execution_count": 11,
      "metadata": {},
      "outputs": [
        {
          "name": "stdout",
          "output_type": "stream",
          "text": [
            "grade: B\n",
            "sum via for: 60\n",
            "index 0 value 10\n",
            "index 1 value 20\n",
            "index 2 value 30\n",
            "2025-01-01 -> 100\n",
            "2025-01-02 -> 150\n",
            "2025-01-03 -> 200\n",
            "id : 1\n",
            "name : Alice\n",
            "sales : 250.0\n",
            "count is 0\n",
            "count is 1\n",
            "count is 2\n",
            "odd i: 1\n",
            "odd i: 3\n"
          ]
        }
      ],
      "source": [
        "# 4.1 If / elif / else\n",
        "value = 75\n",
        "if value > 80:\n",
        "    grade = \"A\"\n",
        "elif value >= 60:\n",
        "    grade = \"B\"\n",
        "else:\n",
        "    grade = \"C\"\n",
        "print(\"grade:\", grade)\n",
        "\n",
        "# 4.2 For loops (iterate lists, dicts)\n",
        "numbers = [10, 20, 30]\n",
        "s = 0\n",
        "for num in numbers:\n",
        "    s += num\n",
        "print(\"sum via for:\", s)\n",
        "\n",
        "# iterate with index using enumerate (very common)\n",
        "for idx, val in enumerate(numbers):\n",
        "    print(f\"index {idx} value {val}\")\n",
        "\n",
        "# iterate multiple sequences: zip\n",
        "dates = [\"2025-01-01\", \"2025-01-02\", \"2025-01-03\"]\n",
        "sales = [100, 150, 200]\n",
        "for d, sale in zip(dates, sales):\n",
        "    print(d, \"->\", sale)\n",
        "\n",
        "# iterate over dict items\n",
        "for k, v in record.items():\n",
        "    print(k, \":\", v)\n",
        "\n",
        "# 4.3 While loop\n",
        "count = 0\n",
        "while count < 3:\n",
        "    print(\"count is\", count)\n",
        "    count += 1\n",
        "\n",
        "# 4.4 break / continue\n",
        "for i in range(10):\n",
        "    if i == 5:\n",
        "        break  # stop loop entirely\n",
        "    if i % 2 == 0:\n",
        "        continue  # skip even numbers\n",
        "    print(\"odd i:\", i)"
      ]
    },
    {
      "cell_type": "markdown",
      "metadata": {},
      "source": [
        "**5 Useful Iteration Patterns for Analytics**"
      ]
    },
    {
      "cell_type": "code",
      "execution_count": 12,
      "metadata": {},
      "outputs": [
        {
          "name": "stdout",
          "output_type": "stream",
          "text": [
            "Alice transactions: [{'id': 1, 'user': 'Alice', 'amount': 120.0, 'region': 'East'}, {'id': 3, 'user': 'Alice', 'amount': 200.0, 'region': 'East'}]\n",
            "Total Alice: 320.0\n"
          ]
        }
      ],
      "source": [
        "# Filtering a list of dicts (records)\n",
        "transactions = [\n",
        "    {\"id\": 1, \"user\": \"Alice\", \"amount\": 120.0, \"region\": \"East\"},\n",
        "    {\"id\": 2, \"user\": \"Bob\",   \"amount\": 80.0,  \"region\": \"West\"},\n",
        "    {\"id\": 3, \"user\": \"Alice\", \"amount\": 200.0, \"region\": \"East\"},\n",
        "]\n",
        "\n",
        "# Find transactions for Alice\n",
        "alice_tx = [t for t in transactions if t[\"user\"] == \"Alice\"]\n",
        "print(\"Alice transactions:\", alice_tx)\n",
        "\n",
        "# Sum amounts for a user\n",
        "total_alice = sum(t[\"amount\"] for t in transactions if t[\"user\"] == \"Alice\")\n",
        "print(\"Total Alice:\", total_alice)"
      ]
    },
    {
      "cell_type": "markdown",
      "metadata": {},
      "source": [
        "**6 Functions**"
      ]
    },
    {
      "cell_type": "code",
      "execution_count": 13,
      "metadata": {},
      "outputs": [
        {
          "name": "stdout",
          "output_type": "stream",
          "text": [
            "Hello, Nur!\n",
            "mean: 2.0\n",
            "square(5): 25\n",
            "inner sees: changed outer\n",
            "after inner, enclosed: changed\n"
          ]
        }
      ],
      "source": [
        "# Basic function\n",
        "def greet(name):\n",
        "    \"\"\"Return a greeting string for name.\"\"\"\n",
        "    return f\"Hello, {name}!\"\n",
        "\n",
        "print(greet(\"Nur\"))\n",
        "\n",
        "# Function with default argument and type hints (optional)\n",
        "def add(x: float, y: float = 0.0) -> float:\n",
        "    \"\"\"Add two numbers; y defaults to 0.\"\"\"\n",
        "    return x + y\n",
        "\n",
        "# Variable-length args: *args and **kwargs\n",
        "def summarize(*values, **options):\n",
        "    \"\"\"\n",
        "    Summarize numeric values.\n",
        "    options can include: \"round\" -> integer number of decimals\n",
        "    \"\"\"\n",
        "    if not values:\n",
        "        return None\n",
        "    total = sum(values)\n",
        "    count = len(values)\n",
        "    mean = total / count\n",
        "    if \"round\" in options:\n",
        "        return round(mean, options[\"round\"])\n",
        "    return mean\n",
        "\n",
        "print(\"mean:\", summarize(1, 2, 3, round=2))\n",
        "\n",
        "# Lambda (anonymous) function useful for small callbacks\n",
        "square = lambda x: x * x\n",
        "print(\"square(5):\", square(5))\n",
        "\n",
        "# Docstrings and help\n",
        "def multiply(a, b):\n",
        "    \"\"\"Multiply two numbers a * b\"\"\"\n",
        "    return a * b\n",
        "\n",
        "# You can view help(multiply) in an interactive session to see the docstring.\n",
        "\n",
        "# Scope rules (LEGB):\n",
        "global_var = \"outer\"\n",
        "\n",
        "def outer():\n",
        "    enclosed = \"enclosed\"\n",
        "    def inner():\n",
        "        nonlocal enclosed  # allows modifying enclosed variable from outer()\n",
        "        enclosed = \"changed\"\n",
        "        print(\"inner sees:\", enclosed, global_var)\n",
        "    inner()\n",
        "    print(\"after inner, enclosed:\", enclosed)\n",
        "\n",
        "outer()"
      ]
    },
    {
      "cell_type": "markdown",
      "metadata": {},
      "source": [
        "**7 Small Analytics Helper Functions**"
      ]
    },
    {
      "cell_type": "code",
      "execution_count": 14,
      "metadata": {},
      "outputs": [
        {
          "name": "stdout",
          "output_type": "stream",
          "text": [
            "summary stats: {'count': 5, 'mean': 30.0, 'median': 30, 'min': 10, 'max': 50}\n",
            "grouped sums: {'Alice': 320.0, 'Bob': 80.0}\n"
          ]
        }
      ],
      "source": [
        "# These are pure-Python implementations that show how you'd do simple tasks\n",
        "# before moving to pandas/numpy.\n",
        "\n",
        "def mean(values):\n",
        "    \"\"\"Return the mean of a list of numbers. Returns None if empty.\"\"\"\n",
        "    if not values:\n",
        "        return None\n",
        "    return sum(values) / len(values)\n",
        "\n",
        "def median(values):\n",
        "    \"\"\"Return the median of a list of numbers.\"\"\"\n",
        "    if not values:\n",
        "        return None\n",
        "    vals = sorted(values)\n",
        "    n = len(vals)\n",
        "    mid = n // 2\n",
        "    if n % 2 == 1:\n",
        "        return vals[mid]\n",
        "    return (vals[mid - 1] + vals[mid]) / 2\n",
        "\n",
        "def summary_stats(values):\n",
        "    \"\"\"Return a small dict of summary statistics.\"\"\"\n",
        "    return {\n",
        "        \"count\": len(values),\n",
        "        \"mean\": mean(values),\n",
        "        \"median\": median(values),\n",
        "        \"min\": min(values) if values else None,\n",
        "        \"max\": max(values) if values else None,\n",
        "    }\n",
        "\n",
        "nums = [10, 20, 30, 40, 50]\n",
        "print(\"summary stats:\", summary_stats(nums))\n",
        "\n",
        "# Grouping example: group-by-like behavior using dict\n",
        "def group_sum(records, key_field, value_field):\n",
        "    \"\"\"Group records by `key_field` and sum `value_field` for each group.\"\"\"\n",
        "    out = {}\n",
        "    for r in records:\n",
        "        k = r.get(key_field)\n",
        "        v = r.get(value_field, 0) or 0\n",
        "        out[k] = out.get(k, 0) + v\n",
        "    return out\n",
        "\n",
        "grouped = group_sum(transactions, \"user\", \"amount\")\n",
        "print(\"grouped sums:\", grouped)"
      ]
    },
    {
      "cell_type": "markdown",
      "metadata": {},
      "source": [
        "**8 Small end-to-end example (mini project)**"
      ]
    },
    {
      "cell_type": "code",
      "execution_count": 15,
      "metadata": {},
      "outputs": [
        {
          "name": "stdout",
          "output_type": "stream",
          "text": [
            "cleaned rows: [{'date': '2025-01-01', 'product': 'A', 'quantity': 10, 'price': 2.5, 'revenue': 25.0}, {'date': '2025-01-01', 'product': 'B', 'quantity': 5, 'price': 4.0, 'revenue': 20.0}, {'date': '2025-01-02', 'product': 'A', 'quantity': 3, 'price': 2.5, 'revenue': 7.5}, {'date': '2025-01-02', 'product': 'C', 'quantity': 0, 'price': 5.0, 'revenue': 0.0}]\n",
            "revenue by product: {'A': 32.5, 'B': 20.0, 'C': 0}\n",
            "top product: ('A', 32.5)\n"
          ]
        },
        {
          "ename": "TypeError",
          "evalue": "max expected at least 1 argument, got 0",
          "output_type": "error",
          "traceback": [
            "\u001b[1;31m---------------------------------------------------------------------------\u001b[0m",
            "\u001b[1;31mTypeError\u001b[0m                                 Traceback (most recent call last)",
            "Cell \u001b[1;32mIn[15], line 37\u001b[0m\n\u001b[0;32m     35\u001b[0m top_product \u001b[38;5;241m=\u001b[39m \u001b[38;5;28mmax\u001b[39m(revenue_by_product\u001b[38;5;241m.\u001b[39mitems(), key\u001b[38;5;241m=\u001b[39m\u001b[38;5;28;01mlambda\u001b[39;00m kv: kv[\u001b[38;5;241m1\u001b[39m])\n\u001b[0;32m     36\u001b[0m \u001b[38;5;28mprint\u001b[39m(\u001b[38;5;124m\"\u001b[39m\u001b[38;5;124mtop product:\u001b[39m\u001b[38;5;124m\"\u001b[39m, top_product)\n\u001b[1;32m---> 37\u001b[0m \u001b[38;5;28;43mmax\u001b[39;49m\u001b[43m(\u001b[49m\u001b[43m)\u001b[49m\n",
            "\u001b[1;31mTypeError\u001b[0m: max expected at least 1 argument, got 0"
          ]
        }
      ],
      "source": [
        "# Suppose you have raw records (like a CSV read before using pandas).\n",
        "raw_rows = [\n",
        "    {\"date\": \"2025-01-01\", \"product\": \"A\", \"quantity\": \"10\", \"price\": \"2.5\"},\n",
        "    {\"date\": \"2025-01-01\", \"product\": \"B\", \"quantity\": \"5\",  \"price\": \"4.0\"},\n",
        "    {\"date\": \"2025-01-02\", \"product\": \"A\", \"quantity\": \"3\",  \"price\": \"2.5\"},\n",
        "    {\"date\": \"2025-01-02\", \"product\": \"C\", \"quantity\": None, \"price\": \"5.0\"},  # bad row\n",
        "]\n",
        "\n",
        "# Step 1: Clean & convert types\n",
        "def clean_row(row):\n",
        "    \"\"\"Return a cleaned row or None if invalid.\"\"\"\n",
        "    try:\n",
        "        q = int(row[\"quantity\"]) if row[\"quantity\"] not in (None, \"\", \"NA\") else 0\n",
        "        p = float(row[\"price\"])\n",
        "        return {\n",
        "            \"date\": row[\"date\"],\n",
        "            \"product\": row[\"product\"],\n",
        "            \"quantity\": q,\n",
        "            \"price\": p,\n",
        "            \"revenue\": q * p\n",
        "        }\n",
        "    except (ValueError, TypeError):\n",
        "        # If conversion fails, drop the row (or handle according to policy)\n",
        "        return None\n",
        "\n",
        "cleaned = [clean_row(r) for r in raw_rows]\n",
        "cleaned = [r for r in cleaned if r is not None]  # drop None\n",
        "print(\"cleaned rows:\", cleaned)\n",
        "\n",
        "# Step 2: Aggregate total revenue by product\n",
        "revenue_by_product = group_sum(cleaned, \"product\", \"revenue\")\n",
        "print(\"revenue by product:\", revenue_by_product)\n",
        "\n",
        "# Step 3: Top product by revenue\n",
        "top_product = max(revenue_by_product.items(), key=lambda kv: kv[1])\n",
        "print(\"top product:\", top_product)\n",
        "max()"
      ]
    },
    {
      "cell_type": "markdown",
      "metadata": {},
      "source": [
        "**9 Quick notes & tips for a data analyst**\n",
        "\n",
        "Use clear variable names (date_str vs d).\n",
        "Keep data cleaning functions pure (input -> output) for easier testing.\n",
        "Prefer list/dict comprehensions for concise transformations (but don't overdo).\n",
        "When data grows, move to pandas/numpy for speed and convenience.\n",
        "Write small, tested functions: easy to reuse in notebooks and pipelines.\n",
        "Use asserts and exceptions to detect bad data early."
      ]
    },
    {
      "cell_type": "markdown",
      "metadata": {},
      "source": [
        "**10 Bonus: small reusable utility (CSV-like read without pandas)**"
      ]
    },
    {
      "cell_type": "code",
      "execution_count": null,
      "metadata": {},
      "outputs": [
        {
          "name": "stdout",
          "output_type": "stream",
          "text": [
            "csv rows: [{'date': '2025-01-03', 'product': 'A', 'quantity': '7', 'price': '2.5'}, {'date': '2025-01-03', 'product': 'B', 'quantity': '2', 'price': '4.0'}]\n"
          ]
        }
      ],
      "source": [
        "def csv_like_to_dicts(lines, delimiter=\",\"):\n",
        "    \"\"\"Convert iterable of CSV lines (including header) to list of dicts.\"\"\"\n",
        "    it = iter(lines)\n",
        "    header = next(it).strip().split(delimiter)\n",
        "    out = []\n",
        "    for line in it:\n",
        "        vals = line.strip().split(delimiter)\n",
        "        row = dict(zip(header, vals))\n",
        "        out.append(row)\n",
        "    return out\n",
        "\n",
        "sample_csv = [\n",
        "    \"date,product,quantity,price\",\n",
        "    \"2025-01-03,A,7,2.5\",\n",
        "    \"2025-01-03,B,2,4.0\",\n",
        "]\n",
        "rows = csv_like_to_dicts(sample_csv)\n",
        "print(\"csv rows:\", rows)"
      ]
    },
    {
      "cell_type": "markdown",
      "metadata": {},
      "source": [
        "***Data Structures: Lists, Tuples, Dictionaries, Sets***"
      ]
    },
    {
      "cell_type": "code",
      "execution_count": null,
      "metadata": {},
      "outputs": [],
      "source": [
        "# -------------------------\n",
        "# Imports used in examples\n",
        "# -------------------------\n",
        "from collections import defaultdict, Counter, namedtuple\n",
        "import copy\n",
        "from typing import List, Dict, Any, Tuple"
      ]
    },
    {
      "cell_type": "markdown",
      "metadata": {},
      "source": [
        "**1 LISTS**"
      ]
    },
    {
      "cell_type": "code",
      "execution_count": null,
      "metadata": {},
      "outputs": [
        {
          "name": "stdout",
          "output_type": "stream",
          "text": [
            "\n",
            "=== LISTS ===\n",
            "nums: [10, 20, 30, 40]\n",
            "mixed: [1, 'two', 3.0, None]\n",
            "nested: [[1, 2], [3, 4]]\n",
            "first element: 10\n",
            "last element: 40\n",
            "slice 1:3: [20, 30]\n",
            "every other: [10, 30]\n",
            "after append/insert: [3, 9, 1, 4, 5]\n",
            "after extend: [3, 9, 1, 4, 5, 2, 7]\n",
            "after remove 9: [3, 1, 4, 5, 2, 7]\n",
            "popped: 7 list now: [3, 1, 4, 5, 2]\n",
            "sorted: [1, 2, 3, 4, 5]\n",
            "reversed: [5, 4, 3, 2, 1]\n",
            "cleared list: []\n",
            "squares: [0, 1, 4, 9, 16, 25]\n",
            "evens: [0, 2, 4, 6, 8, 10, 12, 14]\n",
            "pairs: [(0, 0), (0, 1), (1, 0), (1, 1), (2, 0), (2, 1)]\n",
            "a after b.append: [1, 2, 3, 4]\n",
            "a: [1, 2, 3, 4] shallow: [1, 2, 3, 4, 5] deep: [1, 2, 3, 4]\n",
            "matrix_bad (shared rows): [[0, 9, 0], [0, 9, 0], [0, 9, 0]]\n",
            "matrix_good (independent rows): [[0, 9, 0], [0, 0, 0], [0, 0, 0]]\n",
            "flattened: [1, 2, 3, 4, 5]\n"
          ]
        }
      ],
      "source": [
        "# Ordered, mutable, allow duplicates. Use lists for sequences, rows, or ordered collections.\n",
        "\n",
        "print(\"\\n=== LISTS ===\")\n",
        "\n",
        "# Creation\n",
        "empty_list = []\n",
        "nums = [10, 20, 30, 40]\n",
        "mixed = [1, \"two\", 3.0, None]\n",
        "nested = [[1, 2], [3, 4]]  # list of lists\n",
        "\n",
        "print(\"nums:\", nums)\n",
        "print(\"mixed:\", mixed)\n",
        "print(\"nested:\", nested)\n",
        "\n",
        "# Indexing & Slicing (start:stop:step)\n",
        "print(\"first element:\", nums[0])\n",
        "print(\"last element:\", nums[-1])\n",
        "print(\"slice 1:3:\", nums[1:3])\n",
        "print(\"every other:\", nums[::2])\n",
        "\n",
        "\"\"\"\n",
        "What nums[::2] start:stop:step means (quick)\n",
        "\n",
        "start — index where slicing begins (inclusive).\n",
        "\n",
        "stop — index where slicing ends (exclusive).\n",
        "\n",
        "step — how many items to jump each time (can be negative).\n",
        "\n",
        "If you omit a part, Python uses a sensible default.\n",
        "\"\"\"\n",
        "\n",
        "# Common methods\n",
        "lst = [3, 1, 4]\n",
        "lst.append(5)         # add to end\n",
        "lst.insert(1, 9)      # insert at position\n",
        "print(\"after append/insert:\", lst)\n",
        "lst.extend([2, 7])    # extend with another iterable\n",
        "print(\"after extend:\", lst)\n",
        "lst.remove(9)         # remove first occurrence of value\n",
        "print(\"after remove 9:\", lst)\n",
        "popped = lst.pop()    # pop last and return it\n",
        "print(\"popped:\", popped, \"list now:\", lst)\n",
        "lst.sort()            # sort in place\n",
        "print(\"sorted:\", lst)\n",
        "lst.reverse()         # reverse in place\n",
        "print(\"reversed:\", lst)\n",
        "lst.clear()           # remove all elements\n",
        "print(\"cleared list:\", lst)\n",
        "\n",
        "# List comprehensions (powerful & concise)\n",
        "squares = [x * x for x in range(6)]\n",
        "evens = [x for x in range(20) if x % 2 == 0]\n",
        "pairs = [(x, y) for x in range(3) for y in range(2)]\n",
        "print(\"squares:\", squares)\n",
        "print(\"evens:\", evens[:8])\n",
        "print(\"pairs:\", pairs)\n",
        "\n",
        "# Mutable behavior & copying\n",
        "a = [1, 2, 3]\n",
        "b = a             # b references same list (aliasing)\n",
        "b.append(4)\n",
        "print(\"a after b.append:\", a)  # a changed too\n",
        "\n",
        "# To copy:\n",
        "shallow = a.copy()        # or list(a) or a[:]\n",
        "deep = copy.deepcopy(a)   # for nested structures\n",
        "shallow.append(5)\n",
        "print(\"a:\", a, \"shallow:\", shallow, \"deep:\", deep)\n",
        "\n",
        "# Nested lists pitfalls (shared references)\n",
        "row = [0] * 3\n",
        "matrix_bad = [row] * 3         # all rows reference same list!\n",
        "matrix_bad[0][1] = 9\n",
        "print(\"matrix_bad (shared rows):\", matrix_bad)\n",
        "\n",
        "# Correct way to create independent nested lists\n",
        "matrix_good = [[0] * 3 for _ in range(3)]\n",
        "matrix_good[0][1] = 9\n",
        "print(\"matrix_good (independent rows):\", matrix_good)\n",
        "\n",
        "# Useful patterns\n",
        "# flatten nested list\n",
        "nested = [[1, 2], [3, 4], [5]]\n",
        "flattened = [x for sub in nested for x in sub]\n",
        "print(\"flattened:\", flattened)"
      ]
    },
    {
      "cell_type": "code",
      "execution_count": null,
      "metadata": {},
      "outputs": [],
      "source": []
    }
  ],
  "metadata": {
    "colab": {
      "provenance": []
    },
    "kernelspec": {
      "display_name": "Python 3",
      "name": "python3"
    },
    "language_info": {
      "codemirror_mode": {
        "name": "ipython",
        "version": 3
      },
      "file_extension": ".py",
      "mimetype": "text/x-python",
      "name": "python",
      "nbconvert_exporter": "python",
      "pygments_lexer": "ipython3",
      "version": "3.12.4"
    }
  },
  "nbformat": 4,
  "nbformat_minor": 0
}
